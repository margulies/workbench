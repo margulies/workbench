{
 "cells": [
  {
   "cell_type": "code",
   "execution_count": 40,
   "metadata": {
    "collapsed": false
   },
   "outputs": [],
   "source": [
    "'''\n",
    "Following code is example of how to add new colorbar to wb_view.\n",
    "After including the additional colorbar, the code needs to be recompiled using:\n",
    "\n",
    "mkdir build\n",
    "cd build\n",
    "cmake ../src\n",
    "make\n",
    "\n",
    "'''\n",
    "\n",
    "# Following code only necessary to create this colorbar:\n",
    "\n",
    "import numpy as np\n",
    "import matplotlib.pyplot as plt\n",
    "import matplotlib.colors as colors\n",
    "\n",
    "def truncate_colormap(cmap, minval=0.0, maxval=1.0, n=100):\n",
    "    new_cmap = colors.LinearSegmentedColormap.from_list(\n",
    "        'trunc({n},{a:.2f},{b:.2f})'.format(n=cmap.name, a=minval, b=maxval),\n",
    "        cmap(np.linspace(minval, maxval, n)))\n",
    "    return new_cmap\n",
    "\n",
    "cmap = plt.get_cmap('nipy_spectral')\n",
    "new_cmap = truncate_colormap(cmap, 0.2, 0.95)\n",
    "\n",
    "#colors1 = plt.cm.YlGnBu(np.linspace(0, 1, 128))\n",
    "first = int((128*2)-np.round(255*(1.-0.90)))\n",
    "second = (256-first)\n",
    "#colors2 = new_cmap(np.linspace(0, 1, first))\n",
    "colors2 = plt.cm.viridis(np.linspace(0.1, .98, first))\n",
    "colors3 = plt.cm.YlOrBr(np.linspace(0.25, 1, second))\n",
    "colors4 = plt.cm.PuBu(np.linspace(0., 0.5, second))\n",
    "#colors4 = plt.cm.pink(np.linspace(0.9, 1., second))\n",
    "# combine them and build a new colormap\n",
    "cols = np.vstack((colors2,colors3))\n",
    "mymap = colors.LinearSegmentedColormap.from_list('my_colormap', cols)\n"
   ]
  },
  {
   "cell_type": "code",
   "execution_count": 38,
   "metadata": {
    "collapsed": false
   },
   "outputs": [
    {
     "data": {
      "image/png": "[encoded data removed]",
      "text/plain": [
       "<matplotlib.figure.Figure at 0x1086051d0>"
      ]
     },
     "metadata": {},
     "output_type": "display_data"
    }
   ],
   "source": [
    "%matplotlib inline\n",
    "\n",
    "# Show colorbar to include as palette\n",
    "\n",
    "num = 256\n",
    "gradient = range(num)\n",
    "for x in range(5):\n",
    "    gradient = np.vstack((gradient, gradient))\n",
    "\n",
    "fig, ax = plt.subplots(nrows=1)\n",
    "ax.imshow(gradient, cmap=mymap, interpolation='nearest')\n",
    "ax.set_axis_off()\n",
    "fig.tight_layout()\n",
    "\n",
    "plt.show()\n"
   ]
  },
  {
   "cell_type": "code",
   "execution_count": 41,
   "metadata": {
    "collapsed": true
   },
   "outputs": [],
   "source": [
    "# Write to file:\n",
    "\n",
    "def writePalette(cols, name, colVarName, paletteName, flip=False, only_pos=False):\n",
    "    '''\n",
    "    Export colorbar to wb_view code: src/Files/PaletteFile.cxx\n",
    "    \n",
    "    name = 'Daniel Margulies'\n",
    "    colVarName = 'mymap'\n",
    "    paletteName = 'margulies'\n",
    "    cols = n x 3 or 4 matrix with rgb values between 0 and 1\n",
    "    flip = False # if True, reverse order of colorbar\n",
    "    only_pos = False # if True, compress colorbar to only positive values\n",
    "    '''\n",
    "    \n",
    "    with open('src/Files/PaletteFile.cxx', 'r') as file:\n",
    "        data = file.readlines()\n",
    "    \n",
    "    start = 933\n",
    "    \n",
    "    data.insert(start, '    //------------------------------------------------------------------------\\n')\n",
    "    data.insert(start+1, '    //\\n')\n",
    "    data.insert(start+2, '    // Palette by %s\\n' % name)\n",
    "    data.insert(start+3, '    //\\n')\n",
    "    start += 4\n",
    "\n",
    "    # being reading in color values as rgb\n",
    "    g = [f for f in cols[:,0:3] * 255]\n",
    "    \n",
    "    if flip:\n",
    "        g = np.flipud(g)\n",
    "\n",
    "    m = []\n",
    "    for x in g:\n",
    "        n = []\n",
    "        for h in x:\n",
    "            n.append(hex(int(h)))\n",
    "        m.append(n)\n",
    "\n",
    "    for n, x in enumerate(m):\n",
    "        data.insert(start, '    int %s%s[3] = { %s, %s, %s };\\n' % (colVarName,n,x[0],x[1],x[2]))\n",
    "        data.insert(start+1, '    this->addColor(\"_%s%s\", %s%s);\\n' % (colVarName,n,colVarName,n))\n",
    "        start += 2\n",
    "\n",
    "    data.insert(start, '    if (this->getPaletteByName(\"%s\") == NULL) {\\n' % paletteName)\n",
    "    data.insert(start+1, '        Palette %s;\\n' % colVarName)\n",
    "    data.insert(start+2, '        %s.setName(\"%s\");\\n' % (colVarName, paletteName))\n",
    "    start += 3\n",
    "\n",
    "    if only_pos:\n",
    "        sca = 1.\n",
    "    else:\n",
    "        sca = 2.\n",
    "        \n",
    "    for n, x in enumerate(m):\n",
    "        data.insert(start, '        %s.addScalarAndColor( %ff, \"_%s%s\");\\n' % (colVarName, (1-(n*1./(np.shape(cols)[0])*sca)), colVarName, n))\n",
    "        start += 1\n",
    "\n",
    "    data.insert(start, '        addPalette(%s);\\n' % colVarName)\n",
    "    data.insert(start+1, '    }\\n')\n",
    "    start += 2\n",
    "\n",
    "    with open('src/Files/PaletteFile.cxx', 'w') as file:\n",
    "        file.writelines(data)"
   ]
  },
  {
   "cell_type": "code",
   "execution_count": 32,
   "metadata": {
    "collapsed": false
   },
   "outputs": [],
   "source": [
    "writePalette(cols, 'Daniel Margulies', 'mymap', 'margulies')\n",
    "writePalette(cols, 'Daniel Margulies', 'mymapInv', 'margulies_inv', flip=True)\n",
    "writePalette(cols, 'Daniel Margulies', 'mymapInvPos', 'margulies_inv_pos', flip=True, only_pos=True)\n",
    "writePalette(cols, 'Daniel Margulies', 'mymapPos', 'margulies_pos', only_pos=True)"
   ]
  },
  {
   "cell_type": "code",
   "execution_count": null,
   "metadata": {
    "collapsed": true
   },
   "outputs": [],
   "source": []
  }
 ],
 "metadata": {
  "kernelspec": {
   "display_name": "Python 2",
   "language": "python",
   "name": "python2"
  },
  "language_info": {
   "codemirror_mode": {
    "name": "ipython",
    "version": 2
   },
   "file_extension": ".py",
   "mimetype": "text/x-python",
   "name": "python",
   "nbconvert_exporter": "python",
   "pygments_lexer": "ipython2",
   "version": "2.7.12"
  }
 },
 "nbformat": 4,
 "nbformat_minor": 0
}
